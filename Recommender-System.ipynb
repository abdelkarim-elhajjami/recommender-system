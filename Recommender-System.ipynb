{
 "cells": [
  {
   "cell_type": "markdown",
   "metadata": {},
   "source": [
    "# Système de Recommandation avec Spark"
   ]
  },
  {
   "cell_type": "markdown",
   "metadata": {},
   "source": [
    "## Objectif\n",
    "Il s'agit de développer en Spark une méthode de gradient, dans le but de résoudre un problème de filtrage collaboratif, et de la comparer avec une méthode de la librairie MLlib à savoir ALS."
   ]
  },
  {
   "cell_type": "markdown",
   "metadata": {},
   "source": [
    "## Position du problème\n",
    "Nous avons à notre disposition un RDD \"ratings\" du type (userID, movieID, rating). Les données sont fournies par le fichier `ratings.dat`, stockées  au format ci-joint :\n",
    "```\n",
    "UserID::MovieID::Rating::Timestamp\n",
    "```\n",
    "\n",
    "Ce RDD peut être stocké dans une matrice $R$ où l'on trouve \"rating\" à l'intersection de la ligne \"userID\" et de la colonne \"movieID\".\n",
    "Si la matrice $R$ est de taille $m \\times  n$, nous cherchons $P \\in R^{m,k}$ et $Q \\in R^{n,k}$ telles que $R \\approx \\hat{R} = PQ^T$.\n",
    "Pour cela on considère le problème\n",
    "$$ \\min_{P,Q} \\sum_{i,j : r_{ij} \\text{existe}}  \\ell_{i,j}(R,P,Q), $$\n",
    "où\n",
    "$$  \\ell_{i,j}(R,P,Q)= \\left(r_{ij} - q_{j}^{\\top}p_{i}\\right)^2 + \\lambda(|| p_{i} ||^{2}_2 + || q_{j} ||^2_2 )  $$ et $(p_i)_{1\\leq i\\leq m}$ et $(q_j)_{1\\leq j\\leq n}$ sont les lignes des matrices $P$ et $Q$ respectivement. Le paramètre $\\lambda\\geq 0$ est un paramètre de régularisation.\n",
    "\n",
    "Le problème que nous résolvons ici est un problème dit de \"filtrage collaboratif\", qui permet d'apporter une solution possible du  problème Netflix. Les données sont issues de la base de données  \"The MoviLens Datasets\" :\n",
    "\n",
    "F. Maxwell Harper and Joseph A. Konstan. 2015. The MovieLens Datasets: History and Context. ACM Transactions on Interactive Intelligent Systems"
   ]
  },
  {
   "cell_type": "code",
   "execution_count": 1,
   "metadata": {},
   "outputs": [],
   "source": [
    "# Librairies\n",
    "import numpy as np\n",
    "import pandas as pd\n",
    "from scipy import sparse"
   ]
  },
  {
   "cell_type": "code",
   "execution_count": 2,
   "metadata": {},
   "outputs": [],
   "source": [
    "# Environnement Spark \n",
    "from pyspark import SparkContext, SparkConf\n",
    "import os\n",
    "os.environ['PYSPARK_PYTHON'] = 'C:/Users/Karim/anaconda3/python'\n",
    "conf = SparkConf()\n",
    "conf.setMaster(\"local[*]\")\n",
    "conf.setAppName(\"Matrix Factorization\")\n",
    "sc = SparkContext(conf = conf)"
   ]
  },
  {
   "cell_type": "markdown",
   "metadata": {},
   "source": [
    "###### Création du RDD et premières statistiques sur le jeu de données"
   ]
  },
  {
   "cell_type": "code",
   "execution_count": 3,
   "metadata": {},
   "outputs": [
    {
     "name": "stdout",
     "output_type": "stream",
     "text": [
      "We have 1000209 ratings from 6040 users on 3706 movies.\n",
      "\n",
      "We have 6040 users, 3952 movies and the rating matrix has 4.190221 percent of non-zero value.\n",
      "\n"
     ]
    }
   ],
   "source": [
    "# Répertoire contenant le jeu de données\n",
    "movieLensHomeDir=\"data/\"\n",
    "\n",
    "# ratings est un RDD du type (userID, movieID, rating)\n",
    "def parseRating(line):\n",
    "    fields = line.split('::')\n",
    "    return int(fields[0]), int(fields[1]), float(fields[2])\n",
    "\n",
    "ratingsRDD = sc.textFile(movieLensHomeDir + \"ratings.dat\").map(parseRating).setName(\"ratings\").cache()\n",
    "\n",
    "# Calcul du nombre de ratings\n",
    "numRatings = ratingsRDD.count()\n",
    "# Calcul du nombre d'utilisateurs distincts\n",
    "numUsers = ratingsRDD.map(lambda r: r[0]).distinct().count()\n",
    "# Calcul du nombre de films distincts\n",
    "numMovies = ratingsRDD.map(lambda r: r[1]).distinct().count()\n",
    "print(\"We have %d ratings from %d users on %d movies.\\n\" % (numRatings, numUsers, numMovies))\n",
    "\n",
    "# Dimensions de la matrice R\n",
    "M = ratingsRDD.map(lambda r: r[0]).max()\n",
    "N = ratingsRDD.map(lambda r: r[1]).max()\n",
    "matrixSparsity = float(numRatings)/float(M*N)\n",
    "print(\"We have %d users, %d movies and the rating matrix has %f percent of non-zero value.\\n\" % (M, N, 100*matrixSparsity))"
   ]
  },
  {
   "cell_type": "markdown",
   "metadata": {},
   "source": [
    "###### Nous allons utiliser ALS de la librairie MLlib et en évaluer la performance par un calcul de \" Mean Squared Error\" du rating de prédiction."
   ]
  },
  {
   "cell_type": "code",
   "execution_count": 4,
   "metadata": {},
   "outputs": [
    {
     "name": "stdout",
     "output_type": "stream",
     "text": [
      "Mean Squared Error = 0.5854552189084702\n"
     ]
    }
   ],
   "source": [
    "from pyspark.mllib.recommendation import ALS, MatrixFactorizationModel, Rating\n",
    "\n",
    "# Construction du modèle de recommendation en utilisant ALS\n",
    "rank = 10\n",
    "numIterations = 10\n",
    "model = ALS.train(ratingsRDD, rank, iterations=numIterations, lambda_=0.02)\n",
    "\n",
    "# Evaluation du modèle\n",
    "testdata = ratingsRDD.map(lambda p: (p[0], p[1]))\n",
    "predictions = model.predictAll(testdata).map(lambda r: ((r[0], r[1]), r[2]))\n",
    "ratesAndPreds = ratingsRDD.map(lambda r: ((r[0], r[1]), r[2])).join(predictions)\n",
    "MSE = ratesAndPreds.map(lambda r: (r[1][0] - r[1][1])**2).mean()\n",
    "print(\"Mean Squared Error = \" + str(MSE))"
   ]
  },
  {
   "cell_type": "markdown",
   "metadata": {},
   "source": [
    "##  Algorithme de descente de gradient\n",
    "Le but de cette section est de calculer le gradient de la fonction, implémenter une méthode de gradient et de de mesurer la précision de cette méthode"
   ]
  },
  {
   "cell_type": "code",
   "execution_count": 5,
   "metadata": {},
   "outputs": [],
   "source": [
    "# Séparation du jeu de données en un jeu d'apprentissage et un jeu de test\n",
    "# Taille du jeu d'apprentissage (en %) \n",
    "learningWeight = 0.7\n",
    "# Création des RDD \"apprentissage\" et \"test\" depuis la fonction randomsplit\n",
    "trainRDD, testRDD = ratingsRDD.randomSplit([learningWeight, 1-learningWeight], seed=None)\n",
    "\n",
    "# Calcul du rating prédit\n",
    "def predictedRating(t, P, Q):\n",
    "    \"\"\" \n",
    "    This function computes predicted rating\n",
    "    Args:\n",
    "        t: tuple (UserID, MovieID, Rating)\n",
    "        P: user's features matrix (M by K)\n",
    "        Q: item's features matrix (N by K)\n",
    "    Returns:\n",
    "        predicted rating: l \n",
    "    \"\"\"\n",
    "    user=t[0]-1\n",
    "    movie=t[1]-1\n",
    "    l = np.dot(P[user,:],Q[movie,:])\n",
    "\n",
    "    return l\n",
    "\n",
    "# Calcul de l'erreur MSE \n",
    "def computeMSE(rdd, P, Q):\n",
    "    \"\"\" \n",
    "    This function computes Mean Square Error (MSE)\n",
    "    Args:\n",
    "        rdd: RDD(UserID, MovieID, Rating)\n",
    "        P: user's features matrix (M by K)\n",
    "        Q: item's features matrix (N by K)\n",
    "    Returns:\n",
    "        mse: mean square error \n",
    "    \"\"\" \n",
    "    #predictions=rdd.map(lambda r: ((r[0], r[1]), predictedRating((r[0], r[1], r[2]), P, Q)))\n",
    "    #ratesAndPreds = rdd.map(lambda r: ((r[0], r[1]), r[2])).join(predictions)\n",
    "    #mse = ratesAndPreds.map(lambda r: (r[1][0] - r[1][1])**2).mean()\n",
    "    #return mse\n",
    "    r = rdd.collect()\n",
    "    se = []\n",
    "    for i in range(0,len(r)):\n",
    "        t = r[i]\n",
    "        l = predictedRating(t, P, Q)\n",
    "        se.append((r[i][2]-l)**2)\n",
    "        \n",
    "    return(np.mean(se))"
   ]
  },
  {
   "cell_type": "markdown",
   "metadata": {},
   "source": [
    "###### Implantation de l'algorithme de gradient sur l'ensemble d'apprentissage. \n",
    "Nous prenons un pas égal à  𝛾=0.001"
   ]
  },
  {
   "cell_type": "code",
   "execution_count": 6,
   "metadata": {},
   "outputs": [],
   "source": [
    "# Algorithem de descente de gradient pour la factorisation de matrices\n",
    "def GD(trainRDD, K=10, MAXITER=50, GAMMA=0.001, LAMBDA=0.05):\n",
    "    # Construction de la matrice R (creuse)\n",
    "    row=[]\n",
    "    col=[]\n",
    "    data=[]\n",
    "    for part in trainRDD.collect():\n",
    "        row.append(part[0]-1)\n",
    "        col.append(part[1]-1)\n",
    "        data.append(part[2])\n",
    "    R=sparse.csr_matrix((data, (row, col)))\n",
    "    \n",
    "    # Initialisation aléatoire des matrices P et Q\n",
    "    M,N = R.shape\n",
    "    P = np.random.rand(M,K)\n",
    "    Q = np.random.rand(N,K)\n",
    "    \n",
    "    # Calcul de l'erreur MSE initiale\n",
    "    mse=[]\n",
    "    mse_tmp = computeMSE(trainRDD, P, Q)\n",
    "    mse.append([0, mse_tmp])\n",
    "    print(\"epoch: \", str(0), \" - MSE: \", str(mse_tmp))\n",
    "    \n",
    "    # Boucle\n",
    "    nonzero = R.nonzero()\n",
    "    nbNonZero = R.nonzero()[0].size\n",
    "    I,J = nonzero[0], nonzero[1]\n",
    "    for epoch in range(MAXITER):\n",
    "        for i,j in zip(I,J):\n",
    "            # Mise à jour de P[i,:] et Q[j,:] par descente de gradient à pas fixe\n",
    "            P[i,:] = P[i,:] + GAMMA*2*(R[i,j]-np.dot(P[i,:],Q[j,:]))*Q[j,:]\n",
    "            Q[j,:] = Q[j,:] + GAMMA*2*(R[i,j]-np.dot(P[i,:],Q[j,:]))*P[i,:]\n",
    "        # Calcul de l'erreur MSE courante, et sauvegarde dans le tableau mse \n",
    "        mse.append(computeMSE(trainRDD,P,Q))\n",
    "        print(\"epoch: \", str(epoch+1), \" - MSE: \", str(computeMSE(trainRDD,P,Q)))\n",
    "    return P, Q, mse"
   ]
  },
  {
   "cell_type": "code",
   "execution_count": 7,
   "metadata": {},
   "outputs": [
    {
     "name": "stdout",
     "output_type": "stream",
     "text": [
      "epoch:  0  - MSE:  2.8398459846747173\n",
      "epoch:  1  - MSE:  1.0572495483968163\n",
      "epoch:  2  - MSE:  0.9065576231330671\n",
      "epoch:  3  - MSE:  0.8686814573419376\n",
      "epoch:  4  - MSE:  0.8497500389954725\n",
      "epoch:  5  - MSE:  0.8380263414322584\n",
      "epoch:  6  - MSE:  0.8298921814985142\n",
      "epoch:  7  - MSE:  0.8238132387579948\n",
      "epoch:  8  - MSE:  0.8190146215334111\n",
      "epoch:  9  - MSE:  0.8150585503110095\n",
      "epoch:  10  - MSE:  0.8116772082087109\n"
     ]
    }
   ],
   "source": [
    "# Calcul de P, Q et de mse\n",
    "P,Q,mse = GD(trainRDD, K=10, MAXITER=10, GAMMA=0.001, LAMBDA=0.05)"
   ]
  },
  {
   "cell_type": "code",
   "execution_count": 8,
   "metadata": {},
   "outputs": [],
   "source": [
    "# Calcul des ratings prédits\n",
    "predictions=testRDD.map(lambda r: predictedRating((r[0], r[1], r[2]), P, Q)).collect()"
   ]
  },
  {
   "cell_type": "code",
   "execution_count": 9,
   "metadata": {},
   "outputs": [
    {
     "name": "stdout",
     "output_type": "stream",
     "text": [
      "mse =  0.8579773963394961\n"
     ]
    }
   ],
   "source": [
    "# Evaluation du modèle par MSE\n",
    "print('mse = ', computeMSE(testRDD,P,Q))"
   ]
  },
  {
   "cell_type": "code",
   "execution_count": 10,
   "metadata": {},
   "outputs": [
    {
     "data": {
      "text/html": [
       "<div>\n",
       "<style scoped>\n",
       "    .dataframe tbody tr th:only-of-type {\n",
       "        vertical-align: middle;\n",
       "    }\n",
       "\n",
       "    .dataframe tbody tr th {\n",
       "        vertical-align: top;\n",
       "    }\n",
       "\n",
       "    .dataframe thead th {\n",
       "        text-align: right;\n",
       "    }\n",
       "</style>\n",
       "<table border=\"1\" class=\"dataframe\">\n",
       "  <thead>\n",
       "    <tr style=\"text-align: right;\">\n",
       "      <th></th>\n",
       "      <th>Ratings réels</th>\n",
       "      <th>Ratings prédits</th>\n",
       "    </tr>\n",
       "  </thead>\n",
       "  <tbody>\n",
       "    <tr>\n",
       "      <th>0</th>\n",
       "      <td>5.0</td>\n",
       "      <td>4.607427</td>\n",
       "    </tr>\n",
       "    <tr>\n",
       "      <th>1</th>\n",
       "      <td>3.0</td>\n",
       "      <td>4.262196</td>\n",
       "    </tr>\n",
       "    <tr>\n",
       "      <th>2</th>\n",
       "      <td>5.0</td>\n",
       "      <td>4.308922</td>\n",
       "    </tr>\n",
       "    <tr>\n",
       "      <th>3</th>\n",
       "      <td>5.0</td>\n",
       "      <td>4.260373</td>\n",
       "    </tr>\n",
       "    <tr>\n",
       "      <th>4</th>\n",
       "      <td>4.0</td>\n",
       "      <td>3.739415</td>\n",
       "    </tr>\n",
       "    <tr>\n",
       "      <th>5</th>\n",
       "      <td>5.0</td>\n",
       "      <td>3.963769</td>\n",
       "    </tr>\n",
       "    <tr>\n",
       "      <th>6</th>\n",
       "      <td>5.0</td>\n",
       "      <td>4.763576</td>\n",
       "    </tr>\n",
       "    <tr>\n",
       "      <th>7</th>\n",
       "      <td>3.0</td>\n",
       "      <td>3.118270</td>\n",
       "    </tr>\n",
       "    <tr>\n",
       "      <th>8</th>\n",
       "      <td>5.0</td>\n",
       "      <td>2.959716</td>\n",
       "    </tr>\n",
       "    <tr>\n",
       "      <th>9</th>\n",
       "      <td>4.0</td>\n",
       "      <td>3.094439</td>\n",
       "    </tr>\n",
       "  </tbody>\n",
       "</table>\n",
       "</div>"
      ],
      "text/plain": [
       "   Ratings réels  Ratings prédits\n",
       "0            5.0         4.607427\n",
       "1            3.0         4.262196\n",
       "2            5.0         4.308922\n",
       "3            5.0         4.260373\n",
       "4            4.0         3.739415\n",
       "5            5.0         3.963769\n",
       "6            5.0         4.763576\n",
       "7            3.0         3.118270\n",
       "8            5.0         2.959716\n",
       "9            4.0         3.094439"
      ]
     },
     "execution_count": 10,
     "metadata": {},
     "output_type": "execute_result"
    }
   ],
   "source": [
    "# Comparaison sur le jeu de test les valeurs prédites aux ratings sur 10 échantillons\n",
    "df = pd.DataFrame(list(zip(testRDD.map(lambda r: r[2]).collect()[0:10], predictions[0:10])), columns = ['Ratings réels','Ratings prédits'])\n",
    "df"
   ]
  }
 ],
 "metadata": {
  "kernelspec": {
   "display_name": "Python 3",
   "language": "python",
   "name": "python3"
  },
  "language_info": {
   "codemirror_mode": {
    "name": "ipython",
    "version": 3
   },
   "file_extension": ".py",
   "mimetype": "text/x-python",
   "name": "python",
   "nbconvert_exporter": "python",
   "pygments_lexer": "ipython3",
   "version": "3.8.3"
  }
 },
 "nbformat": 4,
 "nbformat_minor": 4
}
